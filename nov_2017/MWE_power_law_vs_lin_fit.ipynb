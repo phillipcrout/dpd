{
 "cells": [
  {
   "cell_type": "markdown",
   "metadata": {},
   "source": [
    "Abandoned in favour of actually running the experiment. Preliminary conclusion is it seems quite likely we do actually have a power law relationship here."
   ]
  },
  {
   "cell_type": "code",
   "execution_count": 22,
   "metadata": {
    "collapsed": false
   },
   "outputs": [],
   "source": [
    "import numpy as np\n",
    "from matplotlib import pyplot as plt\n",
    "%matplotlib inline"
   ]
  },
  {
   "cell_type": "code",
   "execution_count": 16,
   "metadata": {
    "collapsed": false
   },
   "outputs": [],
   "source": [
    "data_set = np.zeros([9,20])\n",
    "#step sizes as we head left to right are\n",
    "# 1,1,1,2,2,4,3,4 and then we run out of data"
   ]
  },
  {
   "cell_type": "code",
   "execution_count": 17,
   "metadata": {
    "collapsed": false
   },
   "outputs": [],
   "source": [
    "data_set[0][:]  = 1 #base\n",
    "data_set[1][1:] = 1 #1\n",
    "data_set[2][2:] = 1 #1\n",
    "data_set[3][3:] = 1 #1\n",
    "data_set[4][5:] = 1 #2\n",
    "data_set[5][7:] = 1 #2\n",
    "data_set[6][11:] = 1 #4\n",
    "data_set[7][14:] = 1 #3\n",
    "data_set[8][19:] = 1 #4"
   ]
  },
  {
   "cell_type": "code",
   "execution_count": 48,
   "metadata": {
    "collapsed": false
   },
   "outputs": [
    {
     "data": {
      "text/plain": [
       "<matplotlib.collections.PathCollection at 0xa468d3cc>"
      ]
     },
     "execution_count": 48,
     "metadata": {},
     "output_type": "execute_result"
    },
    {
     "data": {
      "image/png": "[encoded data removed]",
      "text/plain": [
       "<matplotlib.figure.Figure at 0xa466f96c>"
      ]
     },
     "metadata": {},
     "output_type": "display_data"
    }
   ],
   "source": [
    "data = np.sum(data_set,axis=1)\n",
    "x_ax = -1*np.linspace(1,9,9)\n",
    "plt.scatter(x_ax+0.5,data,marker='+')\n",
    "plt.scatter(x_ax-0.5,data,marker='+')\n",
    "plt.scatter(x_ax,data+0.5,marker='+')\n",
    "plt.scatter(x_ax,data-0.5,marker='+')"
   ]
  },
  {
   "cell_type": "code",
   "execution_count": null,
   "metadata": {
    "collapsed": true
   },
   "outputs": [],
   "source": []
  }
 ],
 "metadata": {
  "kernelspec": {
   "display_name": "Python [Root]",
   "language": "python",
   "name": "Python [Root]"
  },
  "language_info": {
   "codemirror_mode": {
    "name": "ipython",
    "version": 3
   },
   "file_extension": ".py",
   "mimetype": "text/x-python",
   "name": "python",
   "nbconvert_exporter": "python",
   "pygments_lexer": "ipython3",
   "version": "3.5.2"
  }
 },
 "nbformat": 4,
 "nbformat_minor": 0
}
