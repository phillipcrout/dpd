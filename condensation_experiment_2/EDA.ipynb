{
 "cells": [
  {
   "cell_type": "code",
   "execution_count": 46,
   "metadata": {
    "collapsed": true
   },
   "outputs": [],
   "source": [
    "import pandas as pd\n",
    "from matplotlib import pyplot as plt\n",
    "import numpy as np\n",
    "%matplotlib inline"
   ]
  },
  {
   "cell_type": "code",
   "execution_count": 88,
   "metadata": {
    "collapsed": false
   },
   "outputs": [],
   "source": [
    "output = pd.read_csv('outpute7.txt',header=None,delimiter='\\t',names=['A','B','d'])\n",
    "A = output.A\n",
    "B = output.B\n",
    "d = output.d"
   ]
  },
  {
   "cell_type": "code",
   "execution_count": 89,
   "metadata": {
    "collapsed": false
   },
   "outputs": [],
   "source": [
    "def theoretical_density(A,B):\n",
    "    return 3.1 + -1.121*A*(B-1.136)**(-0.852)"
   ]
  },
  {
   "cell_type": "code",
   "execution_count": 90,
   "metadata": {
    "collapsed": false
   },
   "outputs": [
    {
     "data": {
      "image/png": "[encoded data removed]",
      "text/plain": [
       "<matplotlib.figure.Figure at 0xa7ad318c>"
      ]
     },
     "metadata": {},
     "output_type": "display_data"
    }
   ],
   "source": [
    "A_space = np.linspace(-50,0,num=100)\n",
    "for e in [[30,'r'],[50,'b'],[70,'g']]:\n",
    "    B_val,c = e[0],e[1]      \n",
    "    mask = (B==B_val)\n",
    "    td = theoretical_density(A_space,B_val)\n",
    "    #plt.figure()\n",
    "    plt.scatter(A[mask],d[mask]/np.max(d[mask]),color=c,marker='x')\n",
    "    #plt.plot(A_space,td,color='k')\n",
    "    plt.xlabel('A')\n",
    "    plt.title('B = 30 (r), 50 (b) and 70 (g)')\n",
    "    plt.ylabel('Normalised Density')\n",
    "\n",
    "plt.savefig('3_constant_B_values.png')"
   ]
  },
  {
   "cell_type": "code",
   "execution_count": 72,
   "metadata": {
    "collapsed": false
   },
   "outputs": [],
   "source": [
    "r1 = np.asarray(d[B==30])/np.asarray(d[B==50])\n",
    "r2 = np.asarray(d[B==30])/np.asarray(d[B==70])\n",
    "r3 = np.asarray(d[B==50])/np.asarray(d[B==70])"
   ]
  },
  {
   "cell_type": "code",
   "execution_count": 77,
   "metadata": {
    "collapsed": false
   },
   "outputs": [
    {
     "name": "stdout",
     "output_type": "stream",
     "text": [
      "1.14 with var = 0.21\n",
      "1.32 with var = 0.39\n",
      "1.14 with var = 0.14\n"
     ]
    }
   ],
   "source": [
    "for r in [r1,r2,r3]:\n",
    "    print(str(np.round(np.mean(r),2)) + ' with var = ' + str(np.round(np.std(r),2)))"
   ]
  },
  {
   "cell_type": "code",
   "execution_count": 82,
   "metadata": {
    "collapsed": true
   },
   "outputs": [],
   "source": [
    "def calculated_ratio(B1,B2):\n",
    "    return (theoretical_density(A,B1)/theoretical_density(A,B2))"
   ]
  },
  {
   "cell_type": "code",
   "execution_count": 85,
   "metadata": {
    "collapsed": false
   },
   "outputs": [],
   "source": [
    "r1_ = []\n",
    "r2_ = []\n",
    "r3_ = []\n",
    "\n",
    "for A in A_space: #this screws up earlier cells\n",
    "    r1_.append(calculated_ratio(30,50))\n",
    "    r2_.append((calculated_ratio(30,70)))\n",
    "    r3_.append((calculated_ratio(50,70)))"
   ]
  },
  {
   "cell_type": "code",
   "execution_count": 86,
   "metadata": {
    "collapsed": false
   },
   "outputs": [
    {
     "name": "stdout",
     "output_type": "stream",
     "text": [
      "1.13 with var = 0.06\n",
      "1.2 with var = 0.1\n",
      "1.06 with var = 0.03\n"
     ]
    }
   ],
   "source": [
    "for r in [r1_,r2_,r3_]:\n",
    "    print(str(np.round(np.mean(r),2)) + ' with var = ' + str(np.round(np.std(r),2)))"
   ]
  },
  {
   "cell_type": "code",
   "execution_count": null,
   "metadata": {
    "collapsed": true
   },
   "outputs": [],
   "source": []
  }
 ],
 "metadata": {
  "anaconda-cloud": {},
  "kernelspec": {
   "display_name": "Python [Root]",
   "language": "python",
   "name": "Python [Root]"
  },
  "language_info": {
   "codemirror_mode": {
    "name": "ipython",
    "version": 3
   },
   "file_extension": ".py",
   "mimetype": "text/x-python",
   "name": "python",
   "nbconvert_exporter": "python",
   "pygments_lexer": "ipython3",
   "version": "3.5.2"
  }
 },
 "nbformat": 4,
 "nbformat_minor": 0
}
